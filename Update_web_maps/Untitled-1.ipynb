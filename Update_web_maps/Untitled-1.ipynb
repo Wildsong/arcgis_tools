{
 "cells": [
  {
   "cell_type": "code",
   "execution_count": 29,
   "metadata": {},
   "outputs": [],
   "source": [
    "import os\n",
    "import json\n",
    "import re\n",
    "from deepdiff import DeepDiff, Delta, grep\n",
    "from pprint import pprint\n",
    "\n",
    "server = \"\\\\\\\\cc-gis\\\\C$\\\\\"\n",
    "source_folder = server + \"arcgis\\\\arcgisportal\\\\content\\\\items\"\n",
    "workspace = \"C:\\\\users\\\\bwilson\\\\Documents\\\\source\\\\arcgis_tools\"\n",
    "app = server + \"inetpub\\\\wwwroot\\\\apps\\\\ClatsopCounty\"\n",
    "\n",
    "def load_json(fname:str) -> dict:\n",
    "    with open(fname, \"r\") as fp:\n",
    "        d = json.load(fp)\n",
    "    return d\n",
    "\n"
   ]
  },
  {
   "cell_type": "code",
   "execution_count": 34,
   "metadata": {},
   "outputs": [
    {
     "name": "stdout",
     "output_type": "stream",
     "text": [
      "{'matched_paths': [\"root['widgetPool']\", \"root['widgetPool']['panel']\", \"root['widgetPool']['panel']['uri']\", \"root['widgetPool']['panel']['position']\", \"root['widgetPool']['panel']['position']['top']\", \"root['widgetPool']['panel']['position']['right']\", \"root['widgetPool']['panel']['position']['bottom']\", \"root['widgetPool']['panel']['position']['zIndex']\", \"root['widgetPool']['panel']['position']['relativeTo']\", \"root['widgetPool']['widgets']\", \"root['widgetPool']['widgets'][0]['name']\", \"root['widgetPool']['widgets'][0]['version']\", \"root['widgetPool']['widgets'][0]['uri']\", \"root['widgetPool']['widgets'][0]['config']\", \"root['widgetPool']['widgets'][0]['index']\", \"root['widgetPool']['widgets'][0]['id']\", \"root['widgetPool']['widgets'][0]['label']\", \"root['widgetPool']['widgets'][0]['openAtStart']\", \"root['widgetPool']['widgets'][1]['uri']\", \"root['widgetPool']['widgets'][1]['version']\", \"root['widgetPool']['widgets'][1]['id']\", \"root['widgetPool']['widgets'][1]['name']\", \"root['widgetPool']['widgets'][1]['index']\", \"root['widgetPool']['widgets'][2]['name']\", \"root['widgetPool']['widgets'][2]['version']\", \"root['widgetPool']['widgets'][2]['uri']\", \"root['widgetPool']['widgets'][2]['config']\", \"root['widgetPool']['widgets'][2]['index']\", \"root['widgetPool']['widgets'][2]['id']\", \"root['widgetPool']['widgets'][3]['name']\", \"root['widgetPool']['widgets'][3]['version']\", \"root['widgetPool']['widgets'][3]['IsController']\", \"root['widgetPool']['widgets'][3]['uri']\", \"root['widgetPool']['widgets'][3]['config']\", \"root['widgetPool']['widgets'][3]['index']\", \"root['widgetPool']['widgets'][3]['id']\", \"root['widgetPool']['widgets'][3]['label']\", \"root['widgetPool']['widgets'][4]['uri']\", \"root['widgetPool']['widgets'][4]['version']\", \"root['widgetPool']['widgets'][4]['id']\", \"root['widgetPool']['widgets'][4]['name']\", \"root['widgetPool']['widgets'][4]['index']\", \"root['widgetPool']['widgets'][5]['name']\", \"root['widgetPool']['widgets'][5]['version']\", \"root['widgetPool']['widgets'][5]['uri']\", \"root['widgetPool']['widgets'][5]['config']\", \"root['widgetPool']['widgets'][5]['index']\", \"root['widgetPool']['widgets'][5]['id']\", \"root['widgetPool']['widgets'][6]['name']\", \"root['widgetPool']['widgets'][6]['version']\", \"root['widgetPool']['widgets'][6]['uri']\", \"root['widgetPool']['widgets'][6]['config']\", \"root['widgetPool']['widgets'][6]['index']\", \"root['widgetPool']['widgets'][6]['id']\", \"root['widgetPool']['widgets'][7]['name']\", \"root['widgetPool']['widgets'][7]['version']\", \"root['widgetPool']['widgets'][7]['uri']\", \"root['widgetPool']['widgets'][7]['config']\", \"root['widgetPool']['widgets'][7]['index']\", \"root['widgetPool']['widgets'][7]['id']\", \"root['widgetPool']['widgets'][8]['name']\", \"root['widgetPool']['widgets'][8]['version']\", \"root['widgetPool']['widgets'][8]['uri']\", \"root['widgetPool']['widgets'][8]['config']\", \"root['widgetPool']['widgets'][8]['index']\", \"root['widgetPool']['widgets'][8]['id']\", \"root['widgetPool']['widgets'][9]['name']\", \"root['widgetPool']['widgets'][9]['version']\", \"root['widgetPool']['widgets'][9]['uri']\", \"root['widgetPool']['widgets'][9]['config']\", \"root['widgetPool']['widgets'][9]['index']\", \"root['widgetPool']['widgets'][9]['id']\", \"root['widgetPool']['widgets'][9]['label']\", \"root['widgetPool']['widgets'][10]['name']\", \"root['widgetPool']['widgets'][10]['version']\", \"root['widgetPool']['widgets'][10]['IsController']\", \"root['widgetPool']['widgets'][10]['uri']\", \"root['widgetPool']['widgets'][10]['config']\", \"root['widgetPool']['widgets'][10]['index']\", \"root['widgetPool']['widgets'][10]['id']\", \"root['widgetPool']['groups']\"]}\n"
     ]
    }
   ],
   "source": [
    "from deepdiff import DeepSearch\n",
    "config = load_json(os.path.join(app, 'config.json'))\n",
    "d = DeepSearch(config, 'widgetPool')\n",
    "print(d)"
   ]
  },
  {
   "cell_type": "code",
   "execution_count": 20,
   "metadata": {},
   "outputs": [
    {
     "ename": "TypeError",
     "evalue": "string indices must be integers",
     "output_type": "error",
     "traceback": [
      "\u001b[1;31m---------------------------------------------------------------------------\u001b[0m",
      "\u001b[1;31mTypeError\u001b[0m                                 Traceback (most recent call last)",
      "\u001b[1;32m<ipython-input-20-14176c4963e2>\u001b[0m in \u001b[0;36m<module>\u001b[1;34m\u001b[0m\n\u001b[0;32m      1\u001b[0m \u001b[1;32mfor\u001b[0m \u001b[0mitem\u001b[0m \u001b[1;32min\u001b[0m \u001b[0mb\u001b[0m\u001b[1;33m:\u001b[0m\u001b[1;33m\u001b[0m\u001b[1;33m\u001b[0m\u001b[0m\n\u001b[1;32m----> 2\u001b[1;33m     \u001b[0mprint\u001b[0m\u001b[1;33m(\u001b[0m\u001b[1;34mf\"name: {item['name']}\"\u001b[0m\u001b[1;33m)\u001b[0m\u001b[1;33m\u001b[0m\u001b[1;33m\u001b[0m\u001b[0m\n\u001b[0m",
      "\u001b[1;31mTypeError\u001b[0m: string indices must be integers"
     ]
    }
   ],
   "source": [
    "for item in b:\n",
    "    print(f\"name: {item['name']}\")"
   ]
  },
  {
   "cell_type": "code",
   "execution_count": null,
   "metadata": {},
   "outputs": [],
   "source": []
  }
 ],
 "metadata": {
  "kernelspec": {
   "display_name": "Python 3.7.11 ('arcgis_tools')",
   "language": "python",
   "name": "python3"
  },
  "language_info": {
   "codemirror_mode": {
    "name": "ipython",
    "version": 3
   },
   "file_extension": ".py",
   "mimetype": "text/x-python",
   "name": "python",
   "nbconvert_exporter": "python",
   "pygments_lexer": "ipython3",
   "version": "3.7.11"
  },
  "orig_nbformat": 4,
  "vscode": {
   "interpreter": {
    "hash": "d72c071649cec88da9632841a3dab60aed305fba9c38bd84bdae25687fb1dab0"
   }
  }
 },
 "nbformat": 4,
 "nbformat_minor": 2
}
